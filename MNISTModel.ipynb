{
  "nbformat": 4,
  "nbformat_minor": 0,
  "metadata": {
    "colab": {
      "name": "MNISTModel.ipynb",
      "provenance": [],
      "mount_file_id": "18YpIlYu-MrbcBr0DOzsH-3UsGJLo4Bg2",
      "authorship_tag": "ABX9TyPfE1dDHx/efRaHvpz9kil6",
      "include_colab_link": true
    },
    "kernelspec": {
      "name": "python3",
      "display_name": "Python 3"
    },
    "language_info": {
      "name": "python"
    },
    "accelerator": "GPU"
  },
  "cells": [
    {
      "cell_type": "markdown",
      "metadata": {
        "id": "view-in-github",
        "colab_type": "text"
      },
      "source": [
        "<a href=\"https://colab.research.google.com/github/tanzeyl/mnist-handwritten-digit-recognition-third-semester-mini-project/blob/main/MNISTModel.ipynb\" target=\"_parent\"><img src=\"https://colab.research.google.com/assets/colab-badge.svg\" alt=\"Open In Colab\"/></a>"
      ]
    },
    {
      "cell_type": "code",
      "source": [
        "import keras\n",
        "import tensorflow as tf\n",
        "from keras.datasets import mnist\n",
        "from keras.models import Sequential\n",
        "from keras.layers import Dense, Dropout, Flatten\n",
        "from keras.layers import Conv2D, MaxPooling2D\n",
        "from keras import backend as K\n",
        "from keras import utils as np_utils"
      ],
      "metadata": {
        "id": "pfvce9xD8_WC"
      },
      "execution_count": 5,
      "outputs": []
    },
    {
      "cell_type": "code",
      "source": [
        "# Hyperparameters\n",
        "num_classes = 10\n",
        "batch_size = 128\n",
        "epochs = 12"
      ],
      "metadata": {
        "id": "RPBGF3ay9D5w"
      },
      "execution_count": 6,
      "outputs": []
    },
    {
      "cell_type": "code",
      "source": [
        "# Image Resolution\n",
        "img_rows, img_cols = 28, 28\n",
        "# Loading the data.\n",
        "(x_train, y_train), (x_test, y_test) = mnist.load_data()"
      ],
      "metadata": {
        "id": "QGajvuRv9IVE",
        "outputId": "c6d7d8f1-d73f-4352-ba9f-99a48ad1891d",
        "colab": {
          "base_uri": "https://localhost:8080/"
        }
      },
      "execution_count": 7,
      "outputs": [
        {
          "output_type": "stream",
          "name": "stdout",
          "text": [
            "Downloading data from https://storage.googleapis.com/tensorflow/tf-keras-datasets/mnist.npz\n",
            "11493376/11490434 [==============================] - 0s 0us/step\n",
            "11501568/11490434 [==============================] - 0s 0us/step\n"
          ]
        }
      ]
    },
    {
      "cell_type": "code",
      "source": [
        "# Preparing the data\n",
        "if K.image_data_format() == 'channels_first':\n",
        "    x_train = x_train.reshape(x_train.shape[0], 1, img_rows, img_cols)\n",
        "    x_test = x_test.reshape(x_test.shape[0], 1, img_rows, img_cols)\n",
        "    input_shape = (1, img_rows, img_cols)\n",
        "else:\n",
        "    x_train = x_train.reshape(x_train.shape[0], img_rows, img_cols, 1)\n",
        "    x_test = x_test.reshape(x_test.shape[0], img_rows, img_cols, 1)\n",
        "    input_shape = (img_rows, img_cols, 1)\n",
        "\n",
        "x_train = x_train.astype('float32')\n",
        "x_test = x_test.astype('float32')\n",
        "x_train /= 255\n",
        "x_test /= 255\n",
        "print('x_train shape:', x_train.shape)\n",
        "print(x_train.shape[0], 'train samples')\n",
        "print(x_test.shape[0], 'test samples')\n",
        "\n",
        "y_train = keras.utils.np_utils.to_categorical(y_train, num_classes)\n",
        "y_test = keras.utils.np_utils.to_categorical(y_test, num_classes)\n"
      ],
      "metadata": {
        "id": "yh0VzKnh9MUg",
        "outputId": "b7b2d6bf-4437-41f4-be4f-d4a6c2cbf843",
        "colab": {
          "base_uri": "https://localhost:8080/"
        }
      },
      "execution_count": 8,
      "outputs": [
        {
          "output_type": "stream",
          "name": "stdout",
          "text": [
            "x_train shape: (60000, 28, 28, 1)\n",
            "60000 train samples\n",
            "10000 test samples\n"
          ]
        }
      ]
    },
    {
      "cell_type": "code",
      "source": [
        "# Creating the Model \n",
        "model = Sequential()\n",
        "model.add(Conv2D(32, kernel_size=(3, 3),activation='relu',input_shape=input_shape))\n",
        "model.add(Conv2D(64, (3, 3), activation='relu'))\n",
        "model.add(MaxPooling2D(pool_size=(2, 2)))\n",
        "model.add(Dropout(0.25))\n",
        "model.add(Flatten())\n",
        "model.add(Dense(128, activation='relu'))\n",
        "model.add(Dropout(0.5))\n",
        "model.add(Dense(num_classes, activation='softmax'))\n",
        "model.compile(loss=keras.losses.categorical_crossentropy, optimizer=tf.keras.optimizers.Adadelta(),metrics=['accuracy'])"
      ],
      "metadata": {
        "id": "2ELtDhIG9UpR"
      },
      "execution_count": 9,
      "outputs": []
    },
    {
      "cell_type": "code",
      "source": [
        "# Training the Model\n",
        "model.fit(x_train, y_train, batch_size=batch_size, epochs=epochs, verbose=1, validation_data=(x_test, y_test))"
      ],
      "metadata": {
        "id": "QHltZ_FT9y6j",
        "outputId": "bd07ce61-483e-4dbf-8420-584ec9fdc716",
        "colab": {
          "base_uri": "https://localhost:8080/"
        }
      },
      "execution_count": 10,
      "outputs": [
        {
          "output_type": "stream",
          "name": "stdout",
          "text": [
            "Epoch 1/12\n",
            "469/469 [==============================] - 17s 17ms/step - loss: 2.2906 - accuracy: 0.1545 - val_loss: 2.2707 - val_accuracy: 0.3979\n",
            "Epoch 2/12\n",
            "469/469 [==============================] - 8s 16ms/step - loss: 2.2598 - accuracy: 0.2562 - val_loss: 2.2335 - val_accuracy: 0.5516\n",
            "Epoch 3/12\n",
            "469/469 [==============================] - 8s 16ms/step - loss: 2.2215 - accuracy: 0.3429 - val_loss: 2.1846 - val_accuracy: 0.6280\n",
            "Epoch 4/12\n",
            "469/469 [==============================] - 8s 16ms/step - loss: 2.1688 - accuracy: 0.4179 - val_loss: 2.1173 - val_accuracy: 0.6731\n",
            "Epoch 5/12\n",
            "469/469 [==============================] - 7s 16ms/step - loss: 2.0969 - accuracy: 0.4734 - val_loss: 2.0269 - val_accuracy: 0.7018\n",
            "Epoch 6/12\n",
            "469/469 [==============================] - 8s 16ms/step - loss: 2.0004 - accuracy: 0.5159 - val_loss: 1.9035 - val_accuracy: 0.7214\n",
            "Epoch 7/12\n",
            "469/469 [==============================] - 7s 16ms/step - loss: 1.8747 - accuracy: 0.5478 - val_loss: 1.7426 - val_accuracy: 0.7317\n",
            "Epoch 8/12\n",
            "469/469 [==============================] - 7s 16ms/step - loss: 1.7179 - accuracy: 0.5803 - val_loss: 1.5493 - val_accuracy: 0.7414\n",
            "Epoch 9/12\n",
            "469/469 [==============================] - 8s 16ms/step - loss: 1.5538 - accuracy: 0.6011 - val_loss: 1.3505 - val_accuracy: 0.7588\n",
            "Epoch 10/12\n",
            "469/469 [==============================] - 7s 16ms/step - loss: 1.3930 - accuracy: 0.6235 - val_loss: 1.1703 - val_accuracy: 0.7729\n",
            "Epoch 11/12\n",
            "469/469 [==============================] - 8s 16ms/step - loss: 1.2609 - accuracy: 0.6454 - val_loss: 1.0225 - val_accuracy: 0.7885\n",
            "Epoch 12/12\n",
            "469/469 [==============================] - 7s 16ms/step - loss: 1.1496 - accuracy: 0.6665 - val_loss: 0.9074 - val_accuracy: 0.8015\n"
          ]
        },
        {
          "output_type": "execute_result",
          "data": {
            "text/plain": [
              "<keras.callbacks.History at 0x7fe5389f6f90>"
            ]
          },
          "metadata": {},
          "execution_count": 10
        }
      ]
    },
    {
      "cell_type": "code",
      "source": [
        "# Evaluating the Predictions on the Model\n",
        "score = model.evaluate(x_test, y_test, verbose=0)\n",
        "print('Test loss:', score[0])\n",
        "print('Test accuracy:', score[1])"
      ],
      "metadata": {
        "id": "I1Gg_fvX_K6v",
        "outputId": "4b6fc034-637b-4b8a-aacc-f794cd9139cd",
        "colab": {
          "base_uri": "https://localhost:8080/"
        }
      },
      "execution_count": 11,
      "outputs": [
        {
          "output_type": "stream",
          "name": "stdout",
          "text": [
            "Test loss: 0.9074316620826721\n",
            "Test accuracy: 0.8015000224113464\n"
          ]
        }
      ]
    },
    {
      "cell_type": "code",
      "source": [
        "# Saving the model for Future Inferences\n",
        "model_json = model.to_json()\n",
        "with open(\"model.json\", \"w\") as json_file:\n",
        "    json_file.write(model_json)\n",
        "# serialize weights to HDF5\n",
        "model.save_weights(\"model.h5\")"
      ],
      "metadata": {
        "id": "psh_t0X9AGbH"
      },
      "execution_count": 12,
      "outputs": []
    },
    {
      "cell_type": "code",
      "source": [
        ""
      ],
      "metadata": {
        "id": "L6VlO8ebAK6n"
      },
      "execution_count": null,
      "outputs": []
    }
  ]
}