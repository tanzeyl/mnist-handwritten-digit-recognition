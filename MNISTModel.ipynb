{
  "nbformat": 4,
  "nbformat_minor": 0,
  "metadata": {
    "colab": {
      "name": "MNISTModel.ipynb",
      "provenance": []
    },
    "kernelspec": {
      "name": "python3",
      "display_name": "Python 3"
    },
    "language_info": {
      "name": "python"
    },
    "accelerator": "GPU"
  },
  "cells": [
    {
      "cell_type": "code",
      "source": [
        "import keras\n",
        "import tensorflow as tf\n",
        "from keras.datasets import mnist\n",
        "from keras.models import Sequential\n",
        "from keras.layers import Dense, Dropout, Flatten\n",
        "from keras.layers import Conv2D, MaxPooling2D\n",
        "from keras import backend as K\n",
        "from keras import utils as np_utils"
      ],
      "metadata": {
        "id": "pfvce9xD8_WC"
      },
      "execution_count": 1,
      "outputs": []
    },
    {
      "cell_type": "code",
      "source": [
        "# Hyperparameters\n",
        "num_classes = 10\n",
        "batch_size = 128\n",
        "epochs = 20"
      ],
      "metadata": {
        "id": "RPBGF3ay9D5w"
      },
      "execution_count": 2,
      "outputs": []
    },
    {
      "cell_type": "code",
      "source": [
        "# Image Resolution\n",
        "img_rows, img_cols = 28, 28\n",
        "# Loading the data.\n",
        "(x_train, y_train), (x_test, y_test) = mnist.load_data()"
      ],
      "metadata": {
        "id": "QGajvuRv9IVE"
      },
      "execution_count": 3,
      "outputs": []
    },
    {
      "cell_type": "code",
      "source": [
        "# Preparing the data\n",
        "if K.image_data_format() == 'channels_first':\n",
        "    x_train = x_train.reshape(x_train.shape[0], 1, img_rows, img_cols)\n",
        "    x_test = x_test.reshape(x_test.shape[0], 1, img_rows, img_cols)\n",
        "    input_shape = (1, img_rows, img_cols)\n",
        "else:\n",
        "    x_train = x_train.reshape(x_train.shape[0], img_rows, img_cols, 1)\n",
        "    x_test = x_test.reshape(x_test.shape[0], img_rows, img_cols, 1)\n",
        "    input_shape = (img_rows, img_cols, 1)\n",
        "\n",
        "x_train = x_train.astype('float32')\n",
        "x_test = x_test.astype('float32')\n",
        "x_train /= 255\n",
        "x_test /= 255\n",
        "print('x_train shape:', x_train.shape)\n",
        "print(x_train.shape[0], 'train samples')\n",
        "print(x_test.shape[0], 'test samples')\n",
        "\n",
        "y_train = keras.utils.np_utils.to_categorical(y_train, num_classes)\n",
        "y_test = keras.utils.np_utils.to_categorical(y_test, num_classes)\n"
      ],
      "metadata": {
        "id": "yh0VzKnh9MUg",
        "outputId": "ef3da5e8-4619-4c9a-c0f8-a109455b5205",
        "colab": {
          "base_uri": "https://localhost:8080/"
        }
      },
      "execution_count": 4,
      "outputs": [
        {
          "output_type": "stream",
          "name": "stdout",
          "text": [
            "x_train shape: (60000, 28, 28, 1)\n",
            "60000 train samples\n",
            "10000 test samples\n"
          ]
        }
      ]
    },
    {
      "cell_type": "code",
      "source": [
        "# Creating the Model \n",
        "model = Sequential()\n",
        "model.add(Conv2D(32, kernel_size=(3, 3),activation='relu',input_shape=input_shape))\n",
        "model.add(Conv2D(64, (3, 3), activation='relu'))\n",
        "model.add(MaxPooling2D(pool_size=(2, 2)))\n",
        "model.add(Dropout(0.25))\n",
        "model.add(Flatten())\n",
        "model.add(Dense(128, activation='relu'))\n",
        "model.add(Dropout(0.5))\n",
        "model.add(Dense(num_classes, activation='softmax'))\n",
        "model.compile(loss=keras.losses.categorical_crossentropy, optimizer=tf.keras.optimizers.Adadelta(),metrics=['accuracy'])"
      ],
      "metadata": {
        "id": "2ELtDhIG9UpR"
      },
      "execution_count": 5,
      "outputs": []
    },
    {
      "cell_type": "code",
      "source": [
        "# Training the Model\n",
        "model.fit(x_train, y_train, batch_size=batch_size, epochs=epochs, verbose=1, validation_data=(x_test, y_test))"
      ],
      "metadata": {
        "id": "QHltZ_FT9y6j",
        "outputId": "7096b40f-6e21-4041-b480-e37b5cdc7d6d",
        "colab": {
          "base_uri": "https://localhost:8080/"
        }
      },
      "execution_count": 6,
      "outputs": [
        {
          "output_type": "stream",
          "name": "stdout",
          "text": [
            "Epoch 1/20\n",
            "469/469 [==============================] - 12s 22ms/step - loss: 2.2872 - accuracy: 0.1217 - val_loss: 2.2509 - val_accuracy: 0.2790\n",
            "Epoch 2/20\n",
            "469/469 [==============================] - 11s 24ms/step - loss: 2.2326 - accuracy: 0.2230 - val_loss: 2.1831 - val_accuracy: 0.5339\n",
            "Epoch 3/20\n",
            "469/469 [==============================] - 8s 17ms/step - loss: 2.1602 - accuracy: 0.3373 - val_loss: 2.0891 - val_accuracy: 0.6620\n",
            "Epoch 4/20\n",
            "469/469 [==============================] - 7s 16ms/step - loss: 2.0618 - accuracy: 0.4325 - val_loss: 1.9602 - val_accuracy: 0.7215\n",
            "Epoch 5/20\n",
            "469/469 [==============================] - 7s 15ms/step - loss: 1.9302 - accuracy: 0.5075 - val_loss: 1.7908 - val_accuracy: 0.7589\n",
            "Epoch 6/20\n",
            "469/469 [==============================] - 7s 15ms/step - loss: 1.7669 - accuracy: 0.5630 - val_loss: 1.5865 - val_accuracy: 0.7780\n",
            "Epoch 7/20\n",
            "469/469 [==============================] - 7s 16ms/step - loss: 1.5904 - accuracy: 0.5992 - val_loss: 1.3725 - val_accuracy: 0.7916\n",
            "Epoch 8/20\n",
            "469/469 [==============================] - 7s 15ms/step - loss: 1.4209 - accuracy: 0.6272 - val_loss: 1.1771 - val_accuracy: 0.8071\n",
            "Epoch 9/20\n",
            "469/469 [==============================] - 7s 15ms/step - loss: 1.2745 - accuracy: 0.6546 - val_loss: 1.0161 - val_accuracy: 0.8199\n",
            "Epoch 10/20\n",
            "469/469 [==============================] - 7s 15ms/step - loss: 1.1608 - accuracy: 0.6722 - val_loss: 0.8917 - val_accuracy: 0.8291\n",
            "Epoch 11/20\n",
            "469/469 [==============================] - 7s 16ms/step - loss: 1.0602 - accuracy: 0.6952 - val_loss: 0.7949 - val_accuracy: 0.8381\n",
            "Epoch 12/20\n",
            "469/469 [==============================] - 7s 15ms/step - loss: 0.9830 - accuracy: 0.7128 - val_loss: 0.7203 - val_accuracy: 0.8458\n",
            "Epoch 13/20\n",
            "469/469 [==============================] - 8s 17ms/step - loss: 0.9252 - accuracy: 0.7248 - val_loss: 0.6630 - val_accuracy: 0.8526\n",
            "Epoch 14/20\n",
            "469/469 [==============================] - 7s 15ms/step - loss: 0.8738 - accuracy: 0.7353 - val_loss: 0.6176 - val_accuracy: 0.8570\n",
            "Epoch 15/20\n",
            "469/469 [==============================] - 7s 16ms/step - loss: 0.8347 - accuracy: 0.7466 - val_loss: 0.5808 - val_accuracy: 0.8623\n",
            "Epoch 16/20\n",
            "469/469 [==============================] - 7s 15ms/step - loss: 0.7962 - accuracy: 0.7586 - val_loss: 0.5498 - val_accuracy: 0.8673\n",
            "Epoch 17/20\n",
            "469/469 [==============================] - 7s 15ms/step - loss: 0.7647 - accuracy: 0.7689 - val_loss: 0.5241 - val_accuracy: 0.8708\n",
            "Epoch 18/20\n",
            "469/469 [==============================] - 7s 15ms/step - loss: 0.7365 - accuracy: 0.7747 - val_loss: 0.5022 - val_accuracy: 0.8732\n",
            "Epoch 19/20\n",
            "469/469 [==============================] - 7s 16ms/step - loss: 0.7180 - accuracy: 0.7807 - val_loss: 0.4839 - val_accuracy: 0.8757\n",
            "Epoch 20/20\n",
            "469/469 [==============================] - 7s 15ms/step - loss: 0.6961 - accuracy: 0.7884 - val_loss: 0.4673 - val_accuracy: 0.8798\n"
          ]
        },
        {
          "output_type": "execute_result",
          "data": {
            "text/plain": [
              "<keras.callbacks.History at 0x7fdc50a7cdd0>"
            ]
          },
          "metadata": {},
          "execution_count": 6
        }
      ]
    },
    {
      "cell_type": "code",
      "source": [
        "# Evaluating the Predictions on the Model\n",
        "score = model.evaluate(x_test, y_test, verbose=0)\n",
        "print('Test loss:', score[0])\n",
        "print('Test accuracy:', score[1])"
      ],
      "metadata": {
        "id": "I1Gg_fvX_K6v",
        "outputId": "2e4908b6-4efc-4994-ed55-132adaf3bdb3",
        "colab": {
          "base_uri": "https://localhost:8080/"
        }
      },
      "execution_count": 7,
      "outputs": [
        {
          "output_type": "stream",
          "name": "stdout",
          "text": [
            "Test loss: 0.46725454926490784\n",
            "Test accuracy: 0.879800021648407\n"
          ]
        }
      ]
    },
    {
      "cell_type": "code",
      "source": [
        "# Saving the model for Future Inferences\n",
        "model_json = model.to_json()\n",
        "with open(\"model.json\", \"w\") as json_file:\n",
        "    json_file.write(model_json)\n",
        "# serialize weights to HDF5\n",
        "model.save(\"mnist.h5\")"
      ],
      "metadata": {
        "id": "psh_t0X9AGbH"
      },
      "execution_count": 8,
      "outputs": []
    }
  ]
}