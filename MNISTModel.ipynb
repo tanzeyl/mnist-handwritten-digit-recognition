{
  "nbformat": 4,
  "nbformat_minor": 0,
  "metadata": {
    "colab": {
      "name": "MNISTModel.ipynb",
      "provenance": [],
      "mount_file_id": "18YpIlYu-MrbcBr0DOzsH-3UsGJLo4Bg2",
      "authorship_tag": "ABX9TyNSlpinsfwQg2qv1HcyScCD",
      "include_colab_link": true
    },
    "kernelspec": {
      "name": "python3",
      "display_name": "Python 3"
    },
    "language_info": {
      "name": "python"
    }
  },
  "cells": [
    {
      "cell_type": "markdown",
      "metadata": {
        "id": "view-in-github",
        "colab_type": "text"
      },
      "source": [
        "<a href=\"https://colab.research.google.com/github/tanzeyl/mnist-handwritten-digit-recognition-third-semester-mini-project/blob/main/MNISTModel.ipynb\" target=\"_parent\"><img src=\"https://colab.research.google.com/assets/colab-badge.svg\" alt=\"Open In Colab\"/></a>"
      ]
    },
    {
      "cell_type": "code",
      "metadata": {
        "id": "vPzXik5xhda1"
      },
      "source": [
        "#Importing required libraries\n",
        "import pandas as pd\n",
        "import numpy as np\n",
        "from sklearn.model_selection import train_test_split\n",
        "from keras.utils.np_utils import to_categorical\n",
        "from keras.models import Sequential\n",
        "from keras.layers import Dense, Dropout, Flatten, Conv2D, MaxPool2D, BatchNormalization\n",
        "from keras.preprocessing.image import ImageDataGenerator\n",
        "from keras.callbacks import LearningRateScheduler"
      ],
      "execution_count": 1,
      "outputs": []
    },
    {
      "cell_type": "code",
      "metadata": {
        "id": "UI9N5sG4hjC3"
      },
      "source": [
        "# LOAD THE DATA\n",
        "train = pd.read_csv(\"/content/drive/MyDrive/MNIST Dataset/train.csv\")\n",
        "test = pd.read_csv(\"/content/drive/MyDrive/MNIST Dataset/test.csv\")"
      ],
      "execution_count": 2,
      "outputs": []
    },
    {
      "cell_type": "code",
      "metadata": {
        "id": "0ikZeoMLh2KF"
      },
      "source": [
        "# PREPARE DATA FOR NEURAL NETWORK\n",
        "Y_train = train[\"label\"]\n",
        "X_train = train.drop(labels = [\"label\"],axis = 1)\n",
        "X_train = X_train / 255.0\n",
        "X_test = test / 255.0\n",
        "X_train = X_train.values.reshape(-1,28,28,1)\n",
        "X_test = X_test.values.reshape(-1,28,28,1)\n",
        "Y_train = to_categorical(Y_train, num_classes = 10)"
      ],
      "execution_count": 3,
      "outputs": []
    },
    {
      "cell_type": "code",
      "metadata": {
        "id": "ezFJ4zxLh6jl"
      },
      "source": [
        ""
      ],
      "execution_count": null,
      "outputs": []
    }
  ]
}